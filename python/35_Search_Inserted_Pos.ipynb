{
  "nbformat": 4,
  "nbformat_minor": 0,
  "metadata": {
    "colab": {
      "provenance": []
    },
    "kernelspec": {
      "name": "python3",
      "display_name": "Python 3"
    },
    "language_info": {
      "name": "python"
    }
  },
  "cells": [
    {
      "cell_type": "markdown",
      "source": [
        "# 35. Search Insert Position!\n",
        "Given a sorted array of distinct integers and a target value, return the index if the target is found. If not, return the index where it would be if it were inserted in order.\n",
        "\n",
        "You must write an algorithm with O(log n) runtime complexity.\n",
        "\n",
        "\n",
        "\n",
        "Example 1:\n",
        "\n",
        "Input: nums = [1,3,5,6], target = 5\n",
        "Output: 2\n",
        "Example 2:\n",
        "\n",
        "Input: nums = [1,3,5,6], target = 2\n",
        "Output: 1\n",
        "Example 3:\n",
        "\n",
        "Input: nums = [1,3,5,6], target = 7\n",
        "Output: 4\n",
        "\n",
        "\n",
        "Constraints:\n",
        "\n",
        "1 <= nums.length <= 104\n",
        "-104 <= nums[i] <= 104\n",
        "nums contains distinct values sorted in ascending order.\n",
        "-104 <= target <= 104"
      ],
      "metadata": {
        "id": "haHKTF0LVblP"
      }
    },
    {
      "cell_type": "code",
      "execution_count": 3,
      "metadata": {
        "colab": {
          "base_uri": "https://localhost:8080/"
        },
        "id": "06_BXD6UVapc",
        "outputId": "c6f7509b-ea56-4ab9-ff72-584215f8e894"
      },
      "outputs": [
        {
          "output_type": "stream",
          "name": "stdout",
          "text": [
            "0\n",
            "1\n"
          ]
        }
      ],
      "source": [
        "nums = [1,3,5,6]\n",
        "target = 2\n",
        "\n",
        "left, right = 0, len(nums) - 1\n",
        "while left <= right:\n",
        "  mid = (left + right) // 2\n",
        "  if nums[mid] == target:\n",
        "    print(mid)\n",
        "  elif nums[mid] < target:\n",
        "    left = mid + 1\n",
        "  else:\n",
        "    right = mid - 1\n",
        "  print(left)\n"
      ]
    },
    {
      "cell_type": "markdown",
      "source": [
        "link of the problem: https://leetcode.com/problems/search-insert-position/submissions/1210607664/"
      ],
      "metadata": {
        "id": "gMvdWb9JW2s1"
      }
    }
  ]
}